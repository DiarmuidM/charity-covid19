{
 "cells": [
  {
   "cell_type": "markdown",
   "metadata": {
    "slideshow": {
     "slide_type": "slide"
    }
   },
   "source": [
    "# The impact of Covid-19 on the foundation and dissolution of charitable organisations: A cross-national comparison\n",
    "\n",
    "Dr Diarmuid McDonnell and Professor Alasdair Rutherford\n",
    "\n",
    "2020-09-07"
   ]
  },
  {
   "cell_type": "markdown",
   "metadata": {
    "slideshow": {
     "slide_type": "skip"
    },
    "toc": true
   },
   "source": [
    "<h1>Table of Contents<span class=\"tocSkip\"></span></h1>\n",
    "<div class=\"toc\"><ul class=\"toc-item\"><li><span><a href=\"#Motivation\" data-toc-modified-id=\"Motivation-1\"><span class=\"toc-item-num\">1&nbsp;&nbsp;</span>Motivation</a></span></li><li><span><a href=\"#Aims\" data-toc-modified-id=\"Aims-2\"><span class=\"toc-item-num\">2&nbsp;&nbsp;</span>Aims</a></span></li><li><span><a href=\"#Methodology\" data-toc-modified-id=\"Methodology-3\"><span class=\"toc-item-num\">3&nbsp;&nbsp;</span>Methodology</a></span><ul class=\"toc-item\"><li><span><a href=\"#Data\" data-toc-modified-id=\"Data-3.1\"><span class=\"toc-item-num\">3.1&nbsp;&nbsp;</span>Data</a></span></li><li><span><a href=\"#Analysis\" data-toc-modified-id=\"Analysis-3.2\"><span class=\"toc-item-num\">3.2&nbsp;&nbsp;</span>Analysis</a></span></li><li><span><a href=\"#Conceptual-framework\" data-toc-modified-id=\"Conceptual-framework-3.3\"><span class=\"toc-item-num\">3.3&nbsp;&nbsp;</span>Conceptual framework</a></span></li></ul></li><li><span><a href=\"#Results\" data-toc-modified-id=\"Results-4\"><span class=\"toc-item-num\">4&nbsp;&nbsp;</span>Results</a></span></li><li><span><a href=\"#Reflections\" data-toc-modified-id=\"Reflections-5\"><span class=\"toc-item-num\">5&nbsp;&nbsp;</span>Reflections</a></span></li><li><span><a href=\"#Further-work\" data-toc-modified-id=\"Further-work-6\"><span class=\"toc-item-num\">6&nbsp;&nbsp;</span>Further work</a></span></li><li><span><a href=\"#Thank-you\" data-toc-modified-id=\"Thank-you-7\"><span class=\"toc-item-num\">7&nbsp;&nbsp;</span>Thank you</a></span></li></ul></div>"
   ]
  },
  {
   "cell_type": "markdown",
   "metadata": {
    "slideshow": {
     "slide_type": "slide"
    }
   },
   "source": [
    "## Motivation"
   ]
  },
  {
   "cell_type": "markdown",
   "metadata": {
    "slideshow": {
     "slide_type": "subslide"
    }
   },
   "source": [
    "COVID-19 represents an existential threat to many charitable organisations, while simultaneously spurring new, large-scale forms of voluntary activity (Macmillan, 2020). "
   ]
  },
  {
   "cell_type": "markdown",
   "metadata": {
    "slideshow": {
     "slide_type": "slide"
    }
   },
   "source": [
    "## Aims"
   ]
  },
  {
   "cell_type": "markdown",
   "metadata": {
    "slideshow": {
     "slide_type": "fragment"
    }
   },
   "source": [
    "Describe aggregate changes to the organisational base of a given charity sector."
   ]
  },
  {
   "cell_type": "markdown",
   "metadata": {
    "slideshow": {
     "slide_type": "fragment"
    }
   },
   "source": [
    "Measure these changes in a way that we can relate to impact of Covid-19. "
   ]
  },
  {
   "cell_type": "markdown",
   "metadata": {
    "slideshow": {
     "slide_type": "fragment"
    }
   },
   "source": [
    "Unpack impact of Covid-19: effect on charities and/or regulators."
   ]
  },
  {
   "cell_type": "markdown",
   "metadata": {
    "slideshow": {
     "slide_type": "slide"
    }
   },
   "source": [
    "## Methodology"
   ]
  },
  {
   "cell_type": "markdown",
   "metadata": {
    "slideshow": {
     "slide_type": "subslide"
    }
   },
   "source": [
    "### Data\n",
    "\n",
    "Publicly available regulatory data from seven charity jurisdictions:\n",
    "* England and Wales\n",
    "* Scotland\n",
    "* Northern Ireland\n",
    "* Australia\n",
    "* New Zealand\n",
    "* Canada\n",
    "* USA"
   ]
  },
  {
   "cell_type": "markdown",
   "metadata": {
    "slideshow": {
     "slide_type": "subslide"
    }
   },
   "source": [
    "### Analysis\n",
    "\n",
    "For a given jurisdiction:"
   ]
  },
  {
   "cell_type": "markdown",
   "metadata": {
    "slideshow": {
     "slide_type": "fragment"
    }
   },
   "source": [
    "1. Measure observed monthly numbers of registrations and de-registrations in 2020."
   ]
  },
  {
   "cell_type": "markdown",
   "metadata": {
    "slideshow": {
     "slide_type": "fragment"
    }
   },
   "source": [
    "2. Calculate average monthly numbers of registrations and de-registrations in 2015-2019."
   ]
  },
  {
   "cell_type": "markdown",
   "metadata": {
    "slideshow": {
     "slide_type": "fragment"
    }
   },
   "source": [
    "3. Calculate difference between observed and expected number (\"excess events\")."
   ]
  },
  {
   "cell_type": "markdown",
   "metadata": {
    "slideshow": {
     "slide_type": "subslide"
    }
   },
   "source": [
    "### Conceptual framework"
   ]
  },
  {
   "cell_type": "markdown",
   "metadata": {
    "slideshow": {
     "slide_type": "fragment"
    }
   },
   "source": [
    "$$\\text{Excess events} = \\text{Expected events} + \\text{Impact of Covid-19} + \\text{Random noise}$$"
   ]
  },
  {
   "cell_type": "markdown",
   "metadata": {
    "slideshow": {
     "slide_type": "fragment"
    }
   },
   "source": [
    "$$\\text{Impact of Covid-19} = \\text{Change in charity behaviour} + \\text{Change in regulator behaviour}$$"
   ]
  },
  {
   "cell_type": "markdown",
   "metadata": {
    "slideshow": {
     "slide_type": "slide"
    }
   },
   "source": [
    "## Results"
   ]
  },
  {
   "cell_type": "markdown",
   "metadata": {
    "slideshow": {
     "slide_type": "subslide"
    }
   },
   "source": [
    "![England and Wales Monthly Registrations](..\\docs\\figures\\ew-monthly-registrations-2020-09-03.png)"
   ]
  },
  {
   "cell_type": "markdown",
   "metadata": {
    "slideshow": {
     "slide_type": "subslide"
    }
   },
   "source": [
    "![England and Wales Cumulative Registrations](..\\docs\\figures\\ew-monthly-cumulative-registrations-2020-09-03.png)"
   ]
  },
  {
   "cell_type": "markdown",
   "metadata": {
    "slideshow": {
     "slide_type": "subslide"
    }
   },
   "source": [
    "![New Zealand Monthly Registrations](..\\docs\\figures\\nz-monthly-registrations-2020-09-03.png)"
   ]
  },
  {
   "cell_type": "markdown",
   "metadata": {
    "slideshow": {
     "slide_type": "subslide"
    }
   },
   "source": [
    "![New Zealand Cumulative Registrations](..\\docs\\figures\\nz-monthly-cumulative-registrations-2020-09-03.png)"
   ]
  },
  {
   "cell_type": "markdown",
   "metadata": {
    "slideshow": {
     "slide_type": "subslide"
    }
   },
   "source": [
    "![Scotland Monthly Removals](..\\docs\\figures\\scot-monthly-removals-2020-09-03.png)"
   ]
  },
  {
   "cell_type": "markdown",
   "metadata": {
    "slideshow": {
     "slide_type": "subslide"
    }
   },
   "source": [
    "![Scotland Cumulative Removals](..\\docs\\figures\\scot-monthly-cumulative-removals-2020-09-03.png)"
   ]
  },
  {
   "cell_type": "markdown",
   "metadata": {
    "slideshow": {
     "slide_type": "subslide"
    }
   },
   "source": [
    "![Australia Cumulative Registrations](..\\docs\\figures\\aus-monthly-cumulative-registrations-2020-09-03.png)"
   ]
  },
  {
   "cell_type": "markdown",
   "metadata": {
    "slideshow": {
     "slide_type": "subslide"
    }
   },
   "source": [
    "![Canada Monthly Removals](..\\docs\\figures\\can-monthly-removals-2020-09-03.png)"
   ]
  },
  {
   "cell_type": "markdown",
   "metadata": {
    "slideshow": {
     "slide_type": "slide"
    }
   },
   "source": [
    "## Reflections"
   ]
  },
  {
   "cell_type": "markdown",
   "metadata": {
    "slideshow": {
     "slide_type": "fragment"
    }
   },
   "source": [
    "Too early to draw firm conclusions on \"culling\" of organisations due to impact of Covid-19."
   ]
  },
  {
   "cell_type": "markdown",
   "metadata": {
    "slideshow": {
     "slide_type": "fragment"
    }
   },
   "source": [
    "Removals in Scotland are lower (in part ) due to shifting regulatory priorities during lockdown (e.g., SCIOs). "
   ]
  },
  {
   "cell_type": "markdown",
   "metadata": {
    "slideshow": {
     "slide_type": "fragment"
    }
   },
   "source": [
    "How quickly do charity sectors get back to normal i.e., expected levels of new charities?"
   ]
  },
  {
   "cell_type": "markdown",
   "metadata": {
    "slideshow": {
     "slide_type": "slide"
    }
   },
   "source": [
    "## Further work"
   ]
  },
  {
   "cell_type": "markdown",
   "metadata": {
    "slideshow": {
     "slide_type": "subslide"
    }
   },
   "source": [
    "Add more countries / events:\n",
    "* De-registrations for Australia\n",
    "* Registrations and de-registrations for Republic of Ireland"
   ]
  },
  {
   "cell_type": "markdown",
   "metadata": {
    "slideshow": {
     "slide_type": "subslide"
    }
   },
   "source": [
    "Better understanding of timing and impact of lockdown on regulators."
   ]
  },
  {
   "cell_type": "markdown",
   "metadata": {
    "slideshow": {
     "slide_type": "subslide"
    }
   },
   "source": [
    "More in-depth jurisdiction-specific analysis."
   ]
  },
  {
   "cell_type": "markdown",
   "metadata": {
    "slideshow": {
     "slide_type": "slide"
    }
   },
   "source": [
    "## Thank you\n",
    "\n",
    "[https://diarmuidm.github.io/charity-covid19/](https://diarmuidm.github.io/charity-covid19/)\n",
    "\n",
    "diarmuid.mcdonnell@manchester.ac.uk\n",
    "\n",
    "@DiarmuidMc"
   ]
  }
 ],
 "metadata": {
  "kernelspec": {
   "display_name": "Python 3",
   "language": "python",
   "name": "python3"
  },
  "language_info": {
   "codemirror_mode": {
    "name": "ipython",
    "version": 3
   },
   "file_extension": ".py",
   "mimetype": "text/x-python",
   "name": "python",
   "nbconvert_exporter": "python",
   "pygments_lexer": "ipython3",
   "version": "3.7.3"
  },
  "toc": {
   "base_numbering": 1,
   "nav_menu": {},
   "number_sections": true,
   "sideBar": false,
   "skip_h1_title": true,
   "title_cell": "Table of Contents",
   "title_sidebar": "Contents",
   "toc_cell": true,
   "toc_position": {},
   "toc_section_display": true,
   "toc_window_display": false
  }
 },
 "nbformat": 4,
 "nbformat_minor": 4
}
